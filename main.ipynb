{
 "cells": [
  {
   "cell_type": "markdown",
   "id": "53b56637-f8d5-4cc0-8bc1-f0d0d1381cab",
   "metadata": {},
   "source": [
    "## Collaborative using Git"
   ]
  },
  {
   "cell_type": "code",
   "execution_count": 2,
   "id": "e2b7af60-71fc-467a-9b8d-14fbbbf9d57a",
   "metadata": {},
   "outputs": [
    {
     "name": "stdout",
     "output_type": "stream",
     "text": [
      "Hello, World!\n"
     ]
    }
   ],
   "source": [
    "print(\"Hello, World!\")"
   ]
  },
  {
   "cell_type": "code",
   "execution_count": null,
   "id": "d7f792c3-7d08-4c3d-a6a7-587ce1e2d400",
   "metadata": {},
   "outputs": [],
   "source": []
  }
 ],
 "metadata": {
  "kernelspec": {
   "display_name": "Python 3 (ipykernel)",
   "language": "python",
   "name": "python3"
  },
  "language_info": {
   "codemirror_mode": {
    "name": "ipython",
    "version": 3
   },
   "file_extension": ".py",
   "mimetype": "text/x-python",
   "name": "python",
   "nbconvert_exporter": "python",
   "pygments_lexer": "ipython3",
   "version": "3.9.13"
  }
 },
 "nbformat": 4,
 "nbformat_minor": 5
}
